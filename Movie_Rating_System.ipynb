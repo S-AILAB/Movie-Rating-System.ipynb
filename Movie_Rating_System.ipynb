{
  "nbformat": 4,
  "nbformat_minor": 0,
  "metadata": {
    "colab": {
      "provenance": [],
      "authorship_tag": "ABX9TyPdLsVWlw9akcwYnc+aSVHC"
    },
    "kernelspec": {
      "name": "python3",
      "display_name": "Python 3"
    },
    "language_info": {
      "name": "python"
    }
  },
  "cells": [
    {
      "cell_type": "markdown",
      "source": [
        "###**Problem Statement**:\n",
        "A movie review site needs to create a database to store their data and perform operations on it. You are asked to create a dummy model with 100 users and 1000 movies to explain how it will work"
      ],
      "metadata": {
        "id": "y_AsFuNh-Ac8"
      }
    },
    {
      "cell_type": "markdown",
      "source": [
        "###Tasks to be performed:\n",
        "1. Generate 1000 movie IDs starting from 1301\n",
        "\n",
        "2. Create a matrix, movies_matrix, to store users rating such that\n",
        ">There are 100 users\n",
        "\n",
        ">Each user can review as many movies as he/she wants\n",
        "\n",
        ">The review should be in between 0 to 10 (both inclusive)\n",
        "\n",
        "3. We have ten movie experts, let us take their reviews also. Also, 50 new movies have to be added and their reviews\n",
        "\n",
        "4. Create, final_movie_rating matrix with four columns i.e., ‘Movie ID’, ‘Average rating’, ‘Number of ratings’, and ‘Standard deviation of ratings’\n",
        "\n",
        "5. Also convert the final movie ratings to have range from 0 to 10, such that the minimum rating converts to 0 and maximum to 10, and the other values in between\n",
        "\n",
        "6. Display the films rating-wise, highest to lowest"
      ],
      "metadata": {
        "id": "lpJEGS1k-EZ8"
      }
    },
    {
      "cell_type": "code",
      "source": [
        "import numpy as np"
      ],
      "metadata": {
        "id": "05lJFeYp-Hsb"
      },
      "execution_count": 2,
      "outputs": []
    },
    {
      "cell_type": "markdown",
      "source": [
        "###Task 1: Create a NumPy array of 1000 movie IDs starting from 1301"
      ],
      "metadata": {
        "id": "U5lDpase-PQF"
      }
    },
    {
      "cell_type": "code",
      "source": [
        "movie_id = np.arange(1301,2301)\n",
        "print(movie_id[:15])\n",
        "movie_id.size"
      ],
      "metadata": {
        "colab": {
          "base_uri": "https://localhost:8080/"
        },
        "id": "lHc-KLTU-OAD",
        "outputId": "4470f519-4565-4bad-a9d5-52580737b720"
      },
      "execution_count": 3,
      "outputs": [
        {
          "output_type": "stream",
          "name": "stdout",
          "text": [
            "[1301 1302 1303 1304 1305 1306 1307 1308 1309 1310 1311 1312 1313 1314\n",
            " 1315]\n"
          ]
        },
        {
          "output_type": "execute_result",
          "data": {
            "text/plain": [
              "1000"
            ]
          },
          "metadata": {},
          "execution_count": 3
        }
      ]
    },
    {
      "cell_type": "code",
      "source": [
        "user_id = []\n",
        "for i in range(20201,20301):\n",
        "  user_id.append(i)\n",
        "user_id = np.array(user_id)\n",
        "print(user_id[:15])\n",
        "user_id.size #checking the number of elements in numpy array"
      ],
      "metadata": {
        "colab": {
          "base_uri": "https://localhost:8080/"
        },
        "id": "UpBfpS8p-UsD",
        "outputId": "36420343-7b60-4c0a-96b2-fc9fb3f95fd5"
      },
      "execution_count": 4,
      "outputs": [
        {
          "output_type": "stream",
          "name": "stdout",
          "text": [
            "[20201 20202 20203 20204 20205 20206 20207 20208 20209 20210 20211 20212\n",
            " 20213 20214 20215]\n"
          ]
        },
        {
          "output_type": "execute_result",
          "data": {
            "text/plain": [
              "100"
            ]
          },
          "metadata": {},
          "execution_count": 4
        }
      ]
    },
    {
      "cell_type": "markdown",
      "source": [
        "###Task 2: Create Matrix 1 such that:\n",
        ">* There are 100 users\n",
        ">* Each user can review as many movies as he/she wants.\n",
        ">* The review should be in between 0 to 10 (both inclusive)\n",
        ">* The movies which are not reviewed by a user should have value -1"
      ],
      "metadata": {
        "id": "alWsdV3J-bMz"
      }
    },
    {
      "cell_type": "code",
      "source": [
        "def createMovieMatrix(numUsers, numMovies):\n",
        "  import random\n",
        "  movie_matrix = []\n",
        "  for user in range(numUsers):\n",
        "      movies_rated_by_a_user = np.full(numMovies, -1)#number of movies rated intitally all -1\n",
        "      #print(movies_rated_by_a_user)\n",
        "      num_movies_rated = random.randint(0, numMovies -1)# which all movies rated by me\n",
        "      #print('number of movies rated by this user: ', num_movies_rated)\n",
        "      movies_that_user_rate = random.sample(range(numMovies), num_movies_rated)\n",
        "      #print('movies that this user rated: ' , movies_that_user_rate)\n",
        "      for i in movies_that_user_rate:\n",
        "        #user rating for movies they chosed to rate\n",
        "        movies_rated_by_a_user[i] = random.randint(0, 10)\n",
        "        #print('random ratings of the this user:',movies_rated_by_a_user )\n",
        "      movie_matrix.append(movies_rated_by_a_user)\n",
        "  movie_matrix = np.array(movie_matrix)\n",
        "  return movie_matrix\n"
      ],
      "metadata": {
        "id": "4ihDiqzeDjO6"
      },
      "execution_count": 5,
      "outputs": []
    },
    {
      "cell_type": "code",
      "source": [
        "user_materix = createMovieMatrix(100,1000)\n",
        "print('Movie Matrix details:')\n",
        "print('shape:' , user_materix.shape)\n",
        "print('type:', type(user_materix))\n",
        "print('10:10 slice of movie_matrix', '\\n', user_materix[0:11,:11])"
      ],
      "metadata": {
        "colab": {
          "base_uri": "https://localhost:8080/"
        },
        "id": "C2TX2IUkIKsv",
        "outputId": "da4a8dfe-1ef9-47fe-cb0f-a47f990b248b"
      },
      "execution_count": 6,
      "outputs": [
        {
          "output_type": "stream",
          "name": "stdout",
          "text": [
            "Movie Matrix details:\n",
            "shape: (100, 1000)\n",
            "type: <class 'numpy.ndarray'>\n",
            "10:10 slice of movie_matrix \n",
            " [[-1 -1  8 -1 -1 -1 -1 -1 -1 -1 -1]\n",
            " [-1 -1 -1 -1  9 -1 -1 -1 -1 -1 -1]\n",
            " [-1 -1 -1 -1 -1 -1 -1 -1 -1 -1 -1]\n",
            " [-1 -1  9 -1 -1  2  5 -1 -1  2 -1]\n",
            " [ 5  3  8  4 10  0  4  9  0  9  8]\n",
            " [-1  6  8 -1  7  2 -1  7  0 -1  8]\n",
            " [ 7 -1  9  5  2  8  1  7  4 -1  6]\n",
            " [ 0 -1 -1 -1 -1 -1 -1  7 -1 -1 -1]\n",
            " [10  8  5  2 10  5 -1 10  8  4  9]\n",
            " [-1  3 -1  9 -1 -1 -1 -1  2 -1 -1]\n",
            " [-1 -1 -1 -1 -1 -1  3 -1 -1 -1 -1]]\n"
          ]
        }
      ]
    },
    {
      "cell_type": "markdown",
      "source": [
        "###Task 2: Create Matrix 10 for Expert Reviews and 50 new movies"
      ],
      "metadata": {
        "id": "Vgd4HNXMIvqw"
      }
    },
    {
      "cell_type": "code",
      "source": [
        "#adding 10 new expertsnreviews\n",
        "expert_matrix = createMovieMatrix(10,1000)\n",
        "print('shape:' , expert_matrix.shape)\n",
        "print('type:', type(expert_matrix))\n",
        "print('10,10 slice of movie_matrix', '\\n', expert_matrix[0:10,:10])"
      ],
      "metadata": {
        "colab": {
          "base_uri": "https://localhost:8080/"
        },
        "id": "H__lV-oJI4qY",
        "outputId": "6de3b112-4f45-48b0-c071-ffc85c7e6bc3"
      },
      "execution_count": 7,
      "outputs": [
        {
          "output_type": "stream",
          "name": "stdout",
          "text": [
            "shape: (10, 1000)\n",
            "type: <class 'numpy.ndarray'>\n",
            "10,10 slice of movie_matrix \n",
            " [[-1  5  0  1  2 10  1  6  2 -1]\n",
            " [-1 -1 -1 -1 -1 -1 -1 -1 -1 -1]\n",
            " [-1  8  6 -1  0  1 -1 -1  0 -1]\n",
            " [-1 -1 -1 -1 -1 -1 -1 -1 -1 -1]\n",
            " [ 4  3  3  4 -1  3  7  7  5  4]\n",
            " [-1  4  5 -1 -1 -1 -1 -1 -1 -1]\n",
            " [ 9  7  7  4 -1  6  8  9  7 10]\n",
            " [-1  1  2 -1 -1 -1 -1  5 -1  2]\n",
            " [-1 -1 -1 -1 -1 -1 -1 -1 -1 -1]\n",
            " [-1  9 10 -1 -1 -1  6  6 -1 -1]]\n"
          ]
        }
      ]
    },
    {
      "cell_type": "code",
      "source": [
        "#adding 50 new movies\n",
        "new_movie_matrix = createMovieMatrix(110,50)\n",
        "print('shape:' , new_movie_matrix)\n",
        "print('type:', type(new_movie_matrix))\n",
        "print('10,10 slice of movie_matrix', '\\n', new_movie_matrix[0:10,:10])"
      ],
      "metadata": {
        "colab": {
          "base_uri": "https://localhost:8080/"
        },
        "id": "zEIEdLgTMG_a",
        "outputId": "14aedc0f-4df3-4218-8713-15e6c5231436"
      },
      "execution_count": 8,
      "outputs": [
        {
          "output_type": "stream",
          "name": "stdout",
          "text": [
            "shape: [[ 5 10  0 ... -1  8 -1]\n",
            " [ 9  3 -1 ...  0  2  6]\n",
            " [-1 -1 -1 ... -1 -1  9]\n",
            " ...\n",
            " [10 -1 -1 ...  0  1  2]\n",
            " [ 5 -1 -1 ...  7  2 -1]\n",
            " [-1 -1 -1 ... -1 -1  4]]\n",
            "type: <class 'numpy.ndarray'>\n",
            "10,10 slice of movie_matrix \n",
            " [[ 5 10  0  8  8 -1  3 -1 -1  2]\n",
            " [ 9  3 -1  9  0 10  1  9  3  9]\n",
            " [-1 -1 -1 -1  8 -1 -1 -1 -1 -1]\n",
            " [-1 -1 -1 -1 -1 -1 -1 -1 -1 -1]\n",
            " [-1  2 -1  5 -1 -1 -1  8 -1 -1]\n",
            " [-1 -1 10 -1 -1  6 -1  7  2  1]\n",
            " [ 9  7 10 -1  8  8 -1 -1 -1 -1]\n",
            " [-1 -1 -1 -1 -1 -1 -1 -1 -1 -1]\n",
            " [ 1 -1 -1 -1 -1 -1 -1 -1 -1 -1]\n",
            " [ 5  5  9  1  5  2  0  1  9 -1]]\n"
          ]
        }
      ]
    },
    {
      "cell_type": "markdown",
      "source": [
        "###Stacking user movie matrix and expert movie matrix as a final matrix"
      ],
      "metadata": {
        "id": "Z8kzTqVwJUYQ"
      }
    },
    {
      "cell_type": "code",
      "source": [
        "finale_movie_matrix = np.vstack([user_materix, expert_matrix])\n",
        "print('shape:' , finale_movie_matrix.shape, '\\n', expert_matrix.shape, '\\n', user_materix.shape )\n",
        "print('type:', type(finale_movie_matrix))"
      ],
      "metadata": {
        "colab": {
          "base_uri": "https://localhost:8080/"
        },
        "id": "vgp0H4I6Je4w",
        "outputId": "41afe094-9896-4978-e19b-727323cf9e76"
      },
      "execution_count": 9,
      "outputs": [
        {
          "output_type": "stream",
          "name": "stdout",
          "text": [
            "shape: (110, 1000) \n",
            " (10, 1000) \n",
            " (100, 1000)\n",
            "type: <class 'numpy.ndarray'>\n"
          ]
        }
      ]
    },
    {
      "cell_type": "code",
      "source": [
        "finale_movie_matrix1 = np.hstack([finale_movie_matrix, new_movie_matrix])\n",
        "print('shape:' , finale_movie_matrix.shape, '\\n', new_movie_matrix.shape, '\\n', finale_movie_matrix1.shape )"
      ],
      "metadata": {
        "colab": {
          "base_uri": "https://localhost:8080/"
        },
        "id": "l90jAuRyLDfU",
        "outputId": "c7f488ad-7852-4531-bef6-feb6feaef6d4"
      },
      "execution_count": 10,
      "outputs": [
        {
          "output_type": "stream",
          "name": "stdout",
          "text": [
            "shape: (110, 1000) \n",
            " (110, 50) \n",
            " (110, 1050)\n"
          ]
        }
      ]
    },
    {
      "cell_type": "markdown",
      "source": [
        "####**final_movie_rating matrix** with four columns i.e., ‘Movie ID’, ‘Average rating’, ‘Number of ratings’, and ‘Standard deviation of ratings’"
      ],
      "metadata": {
        "id": "x87F5_l0M7OH"
      }
    },
    {
      "cell_type": "code",
      "source": [
        "print(finale_movie_matrix1.shape[1])"
      ],
      "metadata": {
        "colab": {
          "base_uri": "https://localhost:8080/"
        },
        "id": "fyWPVk1EPG4H",
        "outputId": "64d53665-945d-470e-a19b-7ffbe59f4777"
      },
      "execution_count": 11,
      "outputs": [
        {
          "output_type": "stream",
          "name": "stdout",
          "text": [
            "1050\n"
          ]
        }
      ]
    },
    {
      "cell_type": "code",
      "source": [
        "movie_id = np.arange(1301,2351)\n",
        "movie_stats = []\n",
        "for i in range(finale_movie_matrix1.shape[1]):\n",
        "  m = finale_movie_matrix1[:,i]\n",
        "  m = m[m >=0]\n",
        "  movie_stats.append([movie_id[i],m.mean(),m.size,m.std()])\n",
        "movie_stats = np.array(movie_stats)\n",
        "movie_stats = np.round(movie_stats,2)"
      ],
      "metadata": {
        "id": "YhGlHqjWObLe"
      },
      "execution_count": 12,
      "outputs": []
    },
    {
      "cell_type": "markdown",
      "source": [
        "**Comment:**\n",
        "\n",
        "**m = m[m >=0]**\n",
        "\n",
        "Condition m >= 0: This creates a boolean array of the same shape as m. Each element in this boolean array is True if the corresponding element in m is greater than or equal to 0, and False otherwise.\n",
        "\n",
        "For example, if m is [2.5, -1.0, 4.0, -0.5], then m >= 0 evaluates to [True, False, True, False].\n",
        "Indexing m[m >= 0]: This uses boolean indexing to filter m. It selects only the elements where the corresponding boolean value is True.\n",
        "\n",
        "Continuing with the example, applying this filter to m would result in [2.5, 4.0], as only these elements are greater than or equal to 0"
      ],
      "metadata": {
        "id": "tBJQeAiDcwZS"
      }
    },
    {
      "cell_type": "code",
      "source": [
        "print(movie_stats)\n",
        "print(type(movie_stats),movie_stats.shape)"
      ],
      "metadata": {
        "colab": {
          "base_uri": "https://localhost:8080/"
        },
        "id": "7hMvrlXKM8kv",
        "outputId": "b356d11b-d8d5-4fe7-a53f-e25666555f14"
      },
      "execution_count": 13,
      "outputs": [
        {
          "output_type": "stream",
          "name": "stdout",
          "text": [
            "[[1301.      4.8    51.      3.4 ]\n",
            " [1302.      5.36   59.      3.29]\n",
            " [1303.      4.9    61.      3.03]\n",
            " ...\n",
            " [2348.      5.16   43.      3.19]\n",
            " [2349.      4.66   50.      2.84]\n",
            " [2350.      6.08   53.      3.25]]\n",
            "<class 'numpy.ndarray'> (1050, 4)\n"
          ]
        }
      ]
    },
    {
      "cell_type": "markdown",
      "source": [
        "#5. Converting the final movie ratings to have range from 0 to 10, such that the minimum rating converts to 0 and maximum to 10, and the other values in between"
      ],
      "metadata": {
        "id": "iJId2vf8TSNF"
      }
    },
    {
      "cell_type": "code",
      "source": [
        "#Converting the average of movie ratings to have the range 0 to 10\n",
        "x = movie_stats[:,1]\n",
        "old_range = x.max()-x.min()\n",
        "new_range = (10 - 0)\n",
        "movie_stats[:,1] = ((x - x.min())*(new_range/old_range) + 0)"
      ],
      "metadata": {
        "id": "c6jd9OBHLzwd"
      },
      "execution_count": 24,
      "outputs": []
    },
    {
      "cell_type": "code",
      "source": [
        "movie_stats[:,1]"
      ],
      "metadata": {
        "colab": {
          "base_uri": "https://localhost:8080/"
        },
        "id": "70OMvKw5MGxx",
        "outputId": "5903c19e-64b3-416d-821a-719645c19be6"
      },
      "execution_count": 25,
      "outputs": [
        {
          "output_type": "execute_result",
          "data": {
            "text/plain": [
              "array([4.39688716, 6.57587549, 4.78599222, ..., 5.79766537, 3.85214008,\n",
              "       9.37743191])"
            ]
          },
          "metadata": {},
          "execution_count": 25
        }
      ]
    },
    {
      "cell_type": "code",
      "source": [
        "movie_stats.shape"
      ],
      "metadata": {
        "colab": {
          "base_uri": "https://localhost:8080/"
        },
        "id": "Ti_GEuJGMKPZ",
        "outputId": "b2a16c1d-ab17-4567-b806-cd6c64dc37d9"
      },
      "execution_count": 27,
      "outputs": [
        {
          "output_type": "execute_result",
          "data": {
            "text/plain": [
              "(1050, 4)"
            ]
          },
          "metadata": {},
          "execution_count": 27
        }
      ]
    },
    {
      "cell_type": "code",
      "source": [
        "sorted_films = movie_stats[movie_stats[:,1].argsort()[::-1]]"
      ],
      "metadata": {
        "id": "b-s4aCJnMRNO"
      },
      "execution_count": 31,
      "outputs": []
    },
    {
      "cell_type": "code",
      "source": [
        "print(sorted_films)"
      ],
      "metadata": {
        "colab": {
          "base_uri": "https://localhost:8080/"
        },
        "id": "Tp7Kz7ovNEZM",
        "outputId": "022d548c-1263-49a6-8f43-045ccd50b195"
      },
      "execution_count": 32,
      "outputs": [
        {
          "output_type": "stream",
          "name": "stdout",
          "text": [
            "[[2.08700000e+03 1.00000000e+01 5.50000000e+01 2.94000000e+00]\n",
            " [1.41900000e+03 9.57198444e+00 5.30000000e+01 3.03000000e+00]\n",
            " [2.35000000e+03 9.37743191e+00 5.30000000e+01 3.25000000e+00]\n",
            " ...\n",
            " [1.31200000e+03 7.00389105e-01 6.80000000e+01 2.89000000e+00]\n",
            " [2.20200000e+03 7.78210117e-02 5.40000000e+01 3.13000000e+00]\n",
            " [1.53100000e+03 0.00000000e+00 5.20000000e+01 3.04000000e+00]]\n"
          ]
        }
      ]
    },
    {
      "cell_type": "markdown",
      "source": [
        "argsort() = it shows the sorted indexes of the array.\n"
      ],
      "metadata": {
        "id": "lOBYCrA8jRCT"
      }
    },
    {
      "cell_type": "markdown",
      "source": [
        "##Save as csv file and read array from a csv file"
      ],
      "metadata": {
        "id": "_MHWx8zXfBY6"
      }
    },
    {
      "cell_type": "code",
      "source": [
        "np.savetxt('ranked_movie_data.csv',sorted_films, delimiter=',', fmt='%.2f')"
      ],
      "metadata": {
        "id": "u-X8XI_gfCbb"
      },
      "execution_count": 33,
      "outputs": []
    },
    {
      "cell_type": "code",
      "source": [
        "data = np.genfromtxt('ranked_movie_data.csv', delimiter = ',')"
      ],
      "metadata": {
        "id": "m0xQ2bSsfKM6"
      },
      "execution_count": 34,
      "outputs": []
    },
    {
      "cell_type": "code",
      "source": [
        "data"
      ],
      "metadata": {
        "colab": {
          "base_uri": "https://localhost:8080/"
        },
        "id": "CrAX07ZqfLVp",
        "outputId": "d05266e5-7217-45c7-b746-2d89d36c99b9"
      },
      "execution_count": 35,
      "outputs": [
        {
          "output_type": "execute_result",
          "data": {
            "text/plain": [
              "array([[2.087e+03, 1.000e+01, 5.500e+01, 2.940e+00],\n",
              "       [1.419e+03, 9.570e+00, 5.300e+01, 3.030e+00],\n",
              "       [2.350e+03, 9.380e+00, 5.300e+01, 3.250e+00],\n",
              "       ...,\n",
              "       [1.312e+03, 7.000e-01, 6.800e+01, 2.890e+00],\n",
              "       [2.202e+03, 8.000e-02, 5.400e+01, 3.130e+00],\n",
              "       [1.531e+03, 0.000e+00, 5.200e+01, 3.040e+00]])"
            ]
          },
          "metadata": {},
          "execution_count": 35
        }
      ]
    }
  ]
}